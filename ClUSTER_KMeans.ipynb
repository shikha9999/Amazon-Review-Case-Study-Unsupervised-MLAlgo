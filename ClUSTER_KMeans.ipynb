{
 "cells": [
  {
   "cell_type": "markdown",
   "metadata": {},
   "source": [
    "# Reading Data"
   ]
  },
  {
   "cell_type": "markdown",
   "metadata": {},
   "source": [
    "##  Loading the data\n"
   ]
  },
  {
   "cell_type": "code",
   "execution_count": 3,
   "metadata": {},
   "outputs": [
    {
     "name": "stderr",
     "output_type": "stream",
     "text": [
      "C:\\Users\\hp\\Anaconda3\\lib\\site-packages\\gensim\\utils.py:1212: UserWarning: detected Windows; aliasing chunkize to chunkize_serial\n",
      "  warnings.warn(\"detected Windows; aliasing chunkize to chunkize_serial\")\n"
     ]
    }
   ],
   "source": [
    "import numpy as np\n",
    "import pandas as pd\n",
    "import matplotlib.pyplot as plt\n",
    "%matplotlib inline\n",
    "import warnings\n",
    "warnings.filterwarnings(\"ignore\")\n",
    "\n",
    "import sqlite3\n",
    "import nltk\n",
    "import string\n",
    "import seaborn\n",
    "import re\n",
    "import string as sns  # Tutorial about Python regular expressions: https://pymotw.com/2/re/\n",
    "import pickle\n",
    "import os\n",
    "import numpy as np\n",
    "import matplotlib.pyplot as plt\n",
    "\n",
    "\n",
    "from itertools import cycle\n",
    "from sklearn import svm, datasets\n",
    "from sklearn.metrics import roc_curve, auc\n",
    "from sklearn.model_selection import train_test_split\n",
    "from sklearn.preprocessing import label_binarize\n",
    "from sklearn.multiclass import OneVsRestClassifier\n",
    "from scipy import interp\n",
    "from sklearn.neighbors import KNeighborsClassifier\n",
    "from sklearn.metrics import accuracy_score\n",
    "from sklearn.metrics import confusion_matrix\n",
    "from collections import Counter \n",
    "from sklearn.metrics import accuracy_score\n",
    "from sklearn.naive_bayes import MultinomialNB\n",
    "from sklearn.naive_bayes import MultinomialNB\n",
    "from bs4 import BeautifulSoup\n",
    "from sklearn.model_selection import train_test_split\n",
    "from sklearn.neighbors import KNeighborsClassifier\n",
    "from sklearn.metrics import accuracy_score\n",
    "from sklearn.model_selection import cross_val_score\n",
    "from collections import Counter \n",
    "from sklearn.metrics import accuracy_score\n",
    "from sklearn import model_selection\n",
    "from sklearn.feature_extraction.text import TfidfTransformer\n",
    "from sklearn.feature_extraction.text import TfidfVectorizer\n",
    "from sklearn.feature_extraction.text import CountVectorizer\n",
    "from sklearn.metrics import confusion_matrix\n",
    "from sklearn import metrics\n",
    "from sklearn.metrics import roc_curve, auc\n",
    "from nltk.stem.porter import PorterStemmer\n",
    "from nltk.corpus import stopwords\n",
    "from nltk.stem import PorterStemmer\n",
    "from nltk.stem.wordnet import WordNetLemmatizer\n",
    "from gensim.models import Word2Vec\n",
    "from gensim.models import KeyedVectors\n",
    "from tqdm import tqdm\n",
    "\n"
   ]
  },
  {
   "cell_type": "code",
   "execution_count": 4,
   "metadata": {},
   "outputs": [
    {
     "data": {
      "text/plain": [
       "(30000, 10)"
      ]
     },
     "execution_count": 4,
     "metadata": {},
     "output_type": "execute_result"
    }
   ],
   "source": [
    "clut_ar = pd.read_csv('Reviews.csv', nrows= 30000)\n",
    "clut_ar.shape"
   ]
  },
  {
   "cell_type": "code",
   "execution_count": 5,
   "metadata": {},
   "outputs": [
    {
     "name": "stdout",
     "output_type": "stream",
     "text": [
      "Number of data points in our data (30000, 10)\n"
     ]
    },
    {
     "data": {
      "text/html": [
       "<div>\n",
       "<style scoped>\n",
       "    .dataframe tbody tr th:only-of-type {\n",
       "        vertical-align: middle;\n",
       "    }\n",
       "\n",
       "    .dataframe tbody tr th {\n",
       "        vertical-align: top;\n",
       "    }\n",
       "\n",
       "    .dataframe thead th {\n",
       "        text-align: right;\n",
       "    }\n",
       "</style>\n",
       "<table border=\"1\" class=\"dataframe\">\n",
       "  <thead>\n",
       "    <tr style=\"text-align: right;\">\n",
       "      <th></th>\n",
       "      <th>Id</th>\n",
       "      <th>ProductId</th>\n",
       "      <th>UserId</th>\n",
       "      <th>ProfileName</th>\n",
       "      <th>HelpfulnessNumerator</th>\n",
       "      <th>HelpfulnessDenominator</th>\n",
       "      <th>Score</th>\n",
       "      <th>Time</th>\n",
       "      <th>Summary</th>\n",
       "      <th>Text</th>\n",
       "    </tr>\n",
       "  </thead>\n",
       "  <tbody>\n",
       "    <tr>\n",
       "      <th>0</th>\n",
       "      <td>1</td>\n",
       "      <td>B001E4KFG0</td>\n",
       "      <td>A3SGXH7AUHU8GW</td>\n",
       "      <td>delmartian</td>\n",
       "      <td>1</td>\n",
       "      <td>1</td>\n",
       "      <td>1</td>\n",
       "      <td>1303862400</td>\n",
       "      <td>Good Quality Dog Food</td>\n",
       "      <td>I have bought several of the Vitality canned d...</td>\n",
       "    </tr>\n",
       "    <tr>\n",
       "      <th>1</th>\n",
       "      <td>2</td>\n",
       "      <td>B00813GRG4</td>\n",
       "      <td>A1D87F6ZCVE5NK</td>\n",
       "      <td>dll pa</td>\n",
       "      <td>0</td>\n",
       "      <td>0</td>\n",
       "      <td>0</td>\n",
       "      <td>1346976000</td>\n",
       "      <td>Not as Advertised</td>\n",
       "      <td>Product arrived labeled as Jumbo Salted Peanut...</td>\n",
       "    </tr>\n",
       "    <tr>\n",
       "      <th>2</th>\n",
       "      <td>3</td>\n",
       "      <td>B000LQOCH0</td>\n",
       "      <td>ABXLMWJIXXAIN</td>\n",
       "      <td>Natalia Corres \"Natalia Corres\"</td>\n",
       "      <td>1</td>\n",
       "      <td>1</td>\n",
       "      <td>1</td>\n",
       "      <td>1219017600</td>\n",
       "      <td>\"Delight\" says it all</td>\n",
       "      <td>This is a confection that has been around a fe...</td>\n",
       "    </tr>\n",
       "  </tbody>\n",
       "</table>\n",
       "</div>"
      ],
      "text/plain": [
       "   Id   ProductId          UserId                      ProfileName  \\\n",
       "0   1  B001E4KFG0  A3SGXH7AUHU8GW                       delmartian   \n",
       "1   2  B00813GRG4  A1D87F6ZCVE5NK                           dll pa   \n",
       "2   3  B000LQOCH0   ABXLMWJIXXAIN  Natalia Corres \"Natalia Corres\"   \n",
       "\n",
       "   HelpfulnessNumerator  HelpfulnessDenominator  Score        Time  \\\n",
       "0                     1                       1      1  1303862400   \n",
       "1                     0                       0      0  1346976000   \n",
       "2                     1                       1      1  1219017600   \n",
       "\n",
       "                 Summary                                               Text  \n",
       "0  Good Quality Dog Food  I have bought several of the Vitality canned d...  \n",
       "1      Not as Advertised  Product arrived labeled as Jumbo Salted Peanut...  \n",
       "2  \"Delight\" says it all  This is a confection that has been around a fe...  "
      ]
     },
     "execution_count": 5,
     "metadata": {},
     "output_type": "execute_result"
    }
   ],
   "source": [
    "def partition(x):\n",
    "    if x < 3:\n",
    "        return 0\n",
    "    return 1\n",
    "\n",
    "actualScore = clut_ar['Score']\n",
    "positiveNegative = actualScore.map(partition) \n",
    "clut_ar['Score'] = positiveNegative\n",
    "print(\"Number of data points in our data\", clut_ar.shape)\n",
    "clut_ar.head(3)"
   ]
  },
  {
   "cell_type": "markdown",
   "metadata": {},
   "source": [
    "## Data Cleaning: Deduplication"
   ]
  },
  {
   "cell_type": "code",
   "execution_count": 6,
   "metadata": {},
   "outputs": [],
   "source": [
    "#Sorting data according to ProductId in ascending order\n",
    "sorted_data=clut_ar.sort_values('ProductId', axis=0, ascending=True, inplace=False, kind='quicksort', na_position='last')"
   ]
  },
  {
   "cell_type": "code",
   "execution_count": 7,
   "metadata": {},
   "outputs": [
    {
     "data": {
      "text/plain": [
       "(28687, 10)"
      ]
     },
     "execution_count": 7,
     "metadata": {},
     "output_type": "execute_result"
    }
   ],
   "source": [
    "#Deduplication of entries\n",
    "final=sorted_data.drop_duplicates(subset={\"UserId\",\"ProfileName\",\"Time\",\"Text\"}, keep='first', inplace=False)\n",
    "final.shape"
   ]
  },
  {
   "cell_type": "code",
   "execution_count": 8,
   "metadata": {},
   "outputs": [
    {
     "data": {
      "text/plain": [
       "95.62333333333333"
      ]
     },
     "execution_count": 8,
     "metadata": {},
     "output_type": "execute_result"
    }
   ],
   "source": [
    "#Checking to see how much % of data still remains\n",
    "(final['Id'].size*1.0)/(clut_ar['Id'].size*1.0)*100"
   ]
  },
  {
   "cell_type": "code",
   "execution_count": 9,
   "metadata": {},
   "outputs": [],
   "source": [
    "final=final[final.HelpfulnessNumerator<=final.HelpfulnessDenominator]"
   ]
  },
  {
   "cell_type": "code",
   "execution_count": 10,
   "metadata": {},
   "outputs": [
    {
     "name": "stdout",
     "output_type": "stream",
     "text": [
      "(28687, 10)\n"
     ]
    },
    {
     "data": {
      "text/plain": [
       "1    24480\n",
       "0     4207\n",
       "Name: Score, dtype: int64"
      ]
     },
     "execution_count": 10,
     "metadata": {},
     "output_type": "execute_result"
    }
   ],
   "source": [
    "#Before starting the next phase of preprocessing lets see the number of entries left\n",
    "print(final.shape)\n",
    "\n",
    "#How many positive and negative reviews are present in our dataset?\n",
    "final['Score'].value_counts()"
   ]
  },
  {
   "cell_type": "markdown",
   "metadata": {},
   "source": [
    "#  Featurization"
   ]
  },
  {
   "cell_type": "code",
   "execution_count": 11,
   "metadata": {},
   "outputs": [],
   "source": [
    "x = clut_ar['Text'].values\n",
    "y= clut_ar['Score'].values"
   ]
  },
  {
   "cell_type": "markdown",
   "metadata": {},
   "source": [
    "##  BAG OF WORDS"
   ]
  },
  {
   "cell_type": "code",
   "execution_count": 12,
   "metadata": {},
   "outputs": [
    {
     "name": "stdout",
     "output_type": "stream",
     "text": [
      "(13467,) (13467,)\n",
      "(6633,) (6633,)\n",
      "(9900,) (9900,)\n",
      "====================================================================================================\n",
      "After vectorizations\n",
      "(13467, 22164) (13467,)\n",
      "(6633, 22164) (6633,)\n",
      "(9900, 22164) (9900,)\n",
      "====================================================================================================\n"
     ]
    }
   ],
   "source": [
    "# https://scikit-learn.org/stable/modules/generated/sklearn.model_selection.train_test_split.html\n",
    "from sklearn.model_selection import train_test_split\n",
    "\n",
    "X_train, X_test, y_train, y_test = train_test_split(x, y, test_size=0.33) \n",
    "X_train, X_cv, y_train, y_cv = train_test_split(X_train, y_train, test_size=0.33) \n",
    "\n",
    "\n",
    "print(X_train.shape, y_train.shape)\n",
    "print(X_cv.shape, y_cv.shape)\n",
    "print(X_test.shape, y_test.shape)\n",
    "\n",
    "print(\"=\"*100)\n",
    "\n",
    "from sklearn.feature_extraction.text import CountVectorizer\n",
    "vectorizer = CountVectorizer()\n",
    "vectorizer.fit(X_train) \n",
    "X_train_bow = vectorizer.transform(X_train)\n",
    "X_cv_bow = vectorizer.transform(X_cv)\n",
    "X_test_bow = vectorizer.transform(X_test)\n",
    "\n",
    "print(\"After vectorizations\")\n",
    "print(X_train_bow.shape, y_train.shape)\n",
    "print(X_cv_bow.shape, y_cv.shape)\n",
    "print(X_test_bow.shape, y_test.shape)\n",
    "print(\"=\"*100)"
   ]
  },
  {
   "cell_type": "markdown",
   "metadata": {},
   "source": [
    "<h2> Applying Kmeans </h2>"
   ]
  },
  {
   "cell_type": "code",
   "execution_count": 13,
   "metadata": {},
   "outputs": [
    {
     "data": {
      "text/plain": [
       "array([[0.00798315, 0.00033263, 0.        , ..., 0.00011088, 0.00099789,\n",
       "        0.00088702],\n",
       "       [0.01378122, 0.00057422, 0.00028711, ..., 0.00028711, 0.00200976,\n",
       "        0.00114844],\n",
       "       [0.03163842, 0.00903955, 0.        , ..., 0.00112994, 0.01920904,\n",
       "        0.00225989],\n",
       "       [0.0375    , 0.0125    , 0.        , ..., 0.0125    , 0.025     ,\n",
       "        0.        ]])"
      ]
     },
     "execution_count": 13,
     "metadata": {},
     "output_type": "execute_result"
    }
   ],
   "source": [
    "from sklearn.cluster import KMeans\n",
    "kmeans = KMeans(init='k-means++', n_clusters=4, n_init=10) \n",
    "kmeans.fit(X_train_bow)\n",
    "kmeans.labels_\n",
    "kmeans.predict(X_train_bow)\n",
    "kmeans.cluster_centers_"
   ]
  },
  {
   "cell_type": "code",
   "execution_count": 14,
   "metadata": {},
   "outputs": [
    {
     "name": "stdout",
     "output_type": "stream",
     "text": [
      "[0 1 1 ... 0 2 0]\n",
      "================================================================================\n",
      "[[0.00798315 0.00033263 0.         ... 0.00011088 0.00099789 0.00088702]\n",
      " [0.01378122 0.00057422 0.00028711 ... 0.00028711 0.00200976 0.00114844]\n",
      " [0.03163842 0.00903955 0.         ... 0.00112994 0.01920904 0.00225989]\n",
      " [0.0375     0.0125     0.         ... 0.0125     0.025      0.        ]]\n",
      "================================================================================\n",
      "[0 1 1 ... 0 2 0]\n",
      "================================================================================\n"
     ]
    }
   ],
   "source": [
    "print(kmeans.predict(X_train_bow))\n",
    "print('='*80)\n",
    "print(kmeans.cluster_centers_)\n",
    "print('='*80)\n",
    "print(kmeans.labels_)\n",
    "print('='*80)"
   ]
  },
  {
   "cell_type": "markdown",
   "metadata": {},
   "source": [
    "<h2> Applying Elbow-Knee Methon For Best K </h2>"
   ]
  },
  {
   "cell_type": "code",
   "execution_count": 15,
   "metadata": {},
   "outputs": [
    {
     "name": "stdout",
     "output_type": "stream",
     "text": [
      "Fitting 3 folds for each of 9 candidates, totalling 27 fits\n"
     ]
    },
    {
     "name": "stderr",
     "output_type": "stream",
     "text": [
      "[Parallel(n_jobs=1)]: Using backend SequentialBackend with 1 concurrent workers.\n",
      "[Parallel(n_jobs=1)]: Done  27 out of  27 | elapsed: 77.8min finished\n"
     ]
    },
    {
     "name": "stdout",
     "output_type": "stream",
     "text": [
      "Best Cluster:  {'n_clusters': 9}\n"
     ]
    }
   ],
   "source": [
    "from sklearn.model_selection import GridSearchCV\n",
    "for i in range(1,10):\n",
    "    clf = KMeans(n_clusters = i)\n",
    "param_grid = {'n_clusters':[1,2, 3, 4, 5, 6, 7, 8, 9] }\n",
    "gsv = GridSearchCV(clf,param_grid,verbose=1)\n",
    "gsv.fit(X_train_bow,y_train)\n",
    "print(\"Best Cluster: \",gsv.best_params_)"
   ]
  },
  {
   "cell_type": "code",
   "execution_count": 16,
   "metadata": {},
   "outputs": [],
   "source": [
    "list_of_sent=[]\n",
    "for sentance in X_train:\n",
    "    list_of_sent.append(sentance.split())"
   ]
  },
  {
   "cell_type": "code",
   "execution_count": 17,
   "metadata": {},
   "outputs": [
    {
     "data": {
      "image/png": "[encoded data removed]",
      "text/plain": [
       "<Figure size 432x288 with 1 Axes>"
      ]
     },
     "metadata": {},
     "output_type": "display_data"
    }
   ],
   "source": [
    "#https://github.com/Manish-12/Clustering-Techniques-on-Amazon-fine-food-reviews/blob/master/Kmeans.ipynb\n",
    "dic = {}\n",
    "for i in range(1,10):\n",
    "    clus = KMeans(n_clusters = i)\n",
    "    clus.fit(X_train_bow)\n",
    "    dic[i] = clus.inertia_\n",
    "plt.plot(list(dic.keys()), list(dic.values()))\n",
    "plt.xlabel(\"No. of cluster\")\n",
    "plt.ylabel(\"Inertia\")\n",
    "plt.show()"
   ]
  },
  {
   "cell_type": "markdown",
   "metadata": {},
   "source": [
    "<h2> WordCloud For KMeans </h2>"
   ]
  },
  {
   "cell_type": "code",
   "execution_count": 18,
   "metadata": {},
   "outputs": [
    {
     "data": {
      "image/png": "[encoded data removed]",
      "text/plain": [
       "<Figure size 432x288 with 1 Axes>"
      ]
     },
     "metadata": {},
     "output_type": "display_data"
    }
   ],
   "source": [
    "#https://github.com/Manish-12/Clustering-Techniques-on-Amazon-fine-food-reviews/blob/master/Kmeans.ipynb\n",
    "clf = KMeans(n_clusters = 8)\n",
    "p = clf.fit_predict(X_train_bow)\n",
    "\n",
    "index = []\n",
    "for i in range(len(p)):\n",
    "    if p[i] == 1:\n",
    "        index.append(i)\n",
    "        \n",
    "len(index)\n",
    "text = []\n",
    "for i in range(len(index)):\n",
    "    text.append(list_of_sent[index[i]])\n",
    "    \n",
    "from wordcloud import WordCloud\n",
    "from matplotlib.pyplot import figure\n",
    "t_b = ''\n",
    "for j in range(len(text)):\n",
    "    for i in range(len(text[j])):\n",
    "        t_b = t_b + text[j][i] + ' '\n",
    "\n",
    "word_cloud = WordCloud(relative_scaling = 1.0).generate(t_b)\n",
    "plt.imshow(word_cloud,aspect='auto')\n",
    "plt.axis('off')\n",
    "plt.show()    "
   ]
  },
  {
   "cell_type": "markdown",
   "metadata": {},
   "source": [
    "<h2>=====================================================================</h2>"
   ]
  },
  {
   "cell_type": "markdown",
   "metadata": {},
   "source": [
    "##  TF-IDF"
   ]
  },
  {
   "cell_type": "code",
   "execution_count": 19,
   "metadata": {},
   "outputs": [
    {
     "name": "stdout",
     "output_type": "stream",
     "text": [
      "After vectorizations\n",
      "(13467, 22164) (13467,)\n",
      "(6633, 22164) (6633,)\n",
      "(9900, 22164) (9900,)\n",
      "====================================================================================================\n"
     ]
    }
   ],
   "source": [
    "# https://scikit-learn.org/stable/modules/generated/sklearn.model_selection.train_test_split.html\n",
    "vectorizer_1 =  TfidfVectorizer()\n",
    "vectorizer_1.fit(X_train) \n",
    "\n",
    "X_train_tfidf = vectorizer.transform(X_train)\n",
    "X_cv_tfidf = vectorizer.transform(X_cv)\n",
    "X_test_tfidf = vectorizer.transform(X_test)\n",
    "\n",
    "print(\"After vectorizations\")\n",
    "print(X_train_tfidf.shape, y_train.shape)\n",
    "print(X_cv_tfidf.shape, y_cv.shape)\n",
    "print(X_test_tfidf.shape, y_test.shape)\n",
    "print(\"=\"*100)"
   ]
  },
  {
   "cell_type": "markdown",
   "metadata": {},
   "source": [
    "<h2> Applying Kmeans </h2>"
   ]
  },
  {
   "cell_type": "code",
   "execution_count": 20,
   "metadata": {},
   "outputs": [
    {
     "data": {
      "text/plain": [
       "array([[0.01376541, 0.00057356, 0.00028678, ..., 0.00028678, 0.00200746,\n",
       "        0.00114712],\n",
       "       [0.03121516, 0.00891862, 0.        , ..., 0.00111483, 0.01895206,\n",
       "        0.00222965],\n",
       "       [0.00799911, 0.0003333 , 0.        , ..., 0.0001111 , 0.00099989,\n",
       "        0.00088879],\n",
       "       [0.03658537, 0.01219512, 0.        , ..., 0.01219512, 0.02439024,\n",
       "        0.        ]])"
      ]
     },
     "execution_count": 20,
     "metadata": {},
     "output_type": "execute_result"
    }
   ],
   "source": [
    "kmeans = KMeans(init='k-means++', n_clusters=4, n_init=10) \n",
    "kmeans.fit(X_train_tfidf)\n",
    "kmeans.labels_\n",
    "kmeans.predict(X_train_tfidf)\n",
    "kmeans.cluster_centers_"
   ]
  },
  {
   "cell_type": "code",
   "execution_count": 21,
   "metadata": {},
   "outputs": [
    {
     "name": "stdout",
     "output_type": "stream",
     "text": [
      "[2 0 0 ... 2 1 2]\n",
      "================================================================================\n",
      "[[0.01376541 0.00057356 0.00028678 ... 0.00028678 0.00200746 0.00114712]\n",
      " [0.03121516 0.00891862 0.         ... 0.00111483 0.01895206 0.00222965]\n",
      " [0.00799911 0.0003333  0.         ... 0.0001111  0.00099989 0.00088879]\n",
      " [0.03658537 0.01219512 0.         ... 0.01219512 0.02439024 0.        ]]\n",
      "================================================================================\n",
      "[2 0 0 ... 2 1 2]\n",
      "================================================================================\n"
     ]
    }
   ],
   "source": [
    "print(kmeans.predict(X_train_tfidf))\n",
    "print('='*80)\n",
    "print(kmeans.cluster_centers_)\n",
    "print('='*80)\n",
    "print(kmeans.labels_)\n",
    "print('='*80)"
   ]
  },
  {
   "cell_type": "markdown",
   "metadata": {},
   "source": [
    "<h2> Applying Elbow-Knee Methon For Best K </h2>"
   ]
  },
  {
   "cell_type": "code",
   "execution_count": 22,
   "metadata": {},
   "outputs": [
    {
     "name": "stdout",
     "output_type": "stream",
     "text": [
      "Fitting 3 folds for each of 9 candidates, totalling 27 fits\n"
     ]
    },
    {
     "name": "stderr",
     "output_type": "stream",
     "text": [
      "[Parallel(n_jobs=1)]: Using backend SequentialBackend with 1 concurrent workers.\n",
      "[Parallel(n_jobs=1)]: Done  27 out of  27 | elapsed: 79.3min finished\n"
     ]
    },
    {
     "name": "stdout",
     "output_type": "stream",
     "text": [
      "Best Cluster:  {'n_clusters': 9}\n"
     ]
    }
   ],
   "source": [
    "from sklearn.model_selection import GridSearchCV\n",
    "for i in range(1,10):\n",
    "    clf = KMeans(n_clusters = i)\n",
    "param_grid = {'n_clusters':[1,2, 3, 4, 5, 6, 7, 8, 9] }\n",
    "gsv = GridSearchCV(clf,param_grid,verbose=1)\n",
    "gsv.fit(X_train_tfidf,y_train)\n",
    "print(\"Best Cluster: \",gsv.best_params_)"
   ]
  },
  {
   "cell_type": "code",
   "execution_count": 23,
   "metadata": {},
   "outputs": [
    {
     "data": {
      "image/png": "[encoded data removed]",
      "text/plain": [
       "<Figure size 432x288 with 1 Axes>"
      ]
     },
     "metadata": {},
     "output_type": "display_data"
    }
   ],
   "source": [
    "#https://github.com/Manish-12/Clustering-Techniques-on-Amazon-fine-food-reviews/blob/master/Kmeans.ipynb\n",
    "dic = {}\n",
    "for i in range(1,10):\n",
    "    clus = KMeans(n_clusters = i)\n",
    "    clus.fit(X_train_tfidf)\n",
    "    dic[i] = clus.inertia_\n",
    "plt.plot(list(dic.keys()), list(dic.values()))\n",
    "plt.xlabel(\"No. of cluster\")\n",
    "plt.ylabel(\"Inertia\")\n",
    "plt.show()"
   ]
  },
  {
   "cell_type": "markdown",
   "metadata": {},
   "source": [
    "<h2> WordCloud For KMeans </h2>"
   ]
  },
  {
   "cell_type": "code",
   "execution_count": 24,
   "metadata": {},
   "outputs": [
    {
     "data": {
      "image/png": "[encoded data removed]",
      "text/plain": [
       "<Figure size 432x288 with 1 Axes>"
      ]
     },
     "metadata": {},
     "output_type": "display_data"
    }
   ],
   "source": [
    "#https://github.com/Manish-12/Clustering-Techniques-on-Amazon-fine-food-reviews/blob/master/Kmeans.ipynb\n",
    "clf = KMeans(n_clusters = 9)\n",
    "a = clf.fit_predict(X_train_tfidf)\n",
    "\n",
    "index = []\n",
    "for i in range(len(a)):\n",
    "    if a[i] == 1:\n",
    "        index.append(i)\n",
    "        \n",
    "len(index)\n",
    "text = []\n",
    "for i in range(len(index)):\n",
    "    text.append(list_of_sent[index[i]])\n",
    "    \n",
    "from wordcloud import WordCloud\n",
    "from matplotlib.pyplot import figure\n",
    "t_b = ''\n",
    "for j in range(len(text)):\n",
    "    for i in range(len(text[j])):\n",
    "        t_b = t_b + text[j][i] + ' '\n",
    "\n",
    "word_cloud = WordCloud(relative_scaling = 1.0).generate(t_b)\n",
    "plt.imshow(word_cloud,aspect='auto')\n",
    "plt.axis('off')\n",
    "plt.show()    "
   ]
  },
  {
   "cell_type": "markdown",
   "metadata": {},
   "source": [
    "<h2> ========================================================================= </h2>"
   ]
  },
  {
   "cell_type": "markdown",
   "metadata": {},
   "source": [
    "##  Word2Vec"
   ]
  },
  {
   "cell_type": "code",
   "execution_count": 25,
   "metadata": {},
   "outputs": [
    {
     "name": "stdout",
     "output_type": "stream",
     "text": [
      "[nltk_data] Error loading stopwords: <urlopen error [Errno 11001]\n",
      "[nltk_data]     getaddrinfo failed>\n",
      "{'himself', \"didn't\", 'which', 'while', 'you', 'off', 'i', 'then', \"couldn't\", 'needn', 'ours', 'mustn', 'same', 'as', 'over', 'during', 'a', 'y', 'ma', \"mustn't\", 'weren', 'now', 'itself', 'why', 'am', 'haven', \"wouldn't\", 'all', 'whom', 'are', 'did', 'how', 'again', 'should', 'doesn', \"hadn't\", 'theirs', \"don't\", 'isn', 'only', \"you'd\", 'so', 'here', 'doing', 'her', 'ain', 'm', 'no', 'yourselves', \"it's\", 'he', 'where', 'this', \"you're\", 'in', 'both', 'do', 'further', 'too', 're', \"weren't\", 'being', 'herself', 'my', 'wasn', 'its', 'was', 'aren', 'his', 'what', \"that'll\", 'your', 'is', 'few', \"needn't\", \"shan't\", 'it', 'below', 'having', 'of', 'very', 'out', 'will', 'after', 'from', 'more', \"hasn't\", 'has', 'because', 'll', 'if', 'some', 'until', 'just', 's', 'when', 'hadn', \"mightn't\", 'about', 'under', 'shan', 'before', \"doesn't\", 'myself', 'be', 'o', 'on', 'been', 'against', 'those', 'down', 'nor', 'up', 'with', 'an', 't', 'or', \"she's\", 'themselves', 'other', 'yourself', 'into', \"wasn't\", 'and', 'can', 'above', 'our', 'through', 'that', 'there', 'hasn', 'wouldn', 'don', 'shouldn', \"shouldn't\", \"aren't\", 'any', 'd', 'by', 'them', \"should've\", 'mightn', 'yours', 'hers', \"won't\", \"haven't\", 'but', 'she', \"you've\", 'we', 'between', 'the', 'to', 'not', 'didn', \"you'll\", 'were', 'their', 'had', 'these', 've', 'they', 'does', 'me', 'who', 'won', 'such', 'for', 'each', 'couldn', 'than', 'own', 'once', 'have', 'at', \"isn't\", 'most', 'him', 'ourselves'}\n",
      "******************************************\n",
      "tasti\n"
     ]
    }
   ],
   "source": [
    "import string\n",
    "import nltk\n",
    "nltk.download('stopwords')\n",
    "from nltk.corpus import stopwords\n",
    "from nltk.stem import PorterStemmer\n",
    "from nltk.stem.wordnet import WordNetLemmatizer\n",
    "\n",
    "\n",
    "stop = set(stopwords.words('english'))\n",
    "sno = nltk.stem.SnowballStemmer('english')\n",
    "\n",
    "\n",
    "def cleanhtml(sentence):\n",
    "    cleanr = re.compile('<.*?>')\n",
    "    cleantext = re.sub(cleanr, ' ', sentence)\n",
    "    return cleantext\n",
    "\n",
    "def cleanpunc(sentence):\n",
    "    cleaned = re.sub(r'[?|!|\\'|\"|#]',r'',sentence)\n",
    "    cleaned = re.sub(r'[.|,|)|(|\\|/|]',r' ',cleaned)\n",
    "    return cleaned\n",
    "\n",
    "print(stop)\n",
    "print('******************************************')\n",
    "print(sno.stem('tasty'))\n"
   ]
  },
  {
   "cell_type": "code",
   "execution_count": 26,
   "metadata": {},
   "outputs": [],
   "source": [
    "i=0\n",
    "str1=''\n",
    "final_string=[]\n",
    "all_positive_words=[]\n",
    "all_negative_words=[]\n",
    "s=''\n",
    "for sent in clut_ar['Text'].values:\n",
    "    filtered_sentence=[]\n",
    "    sent=cleanhtml(sent)\n",
    "    for w in sent.split():\n",
    "        for cleaned_words in cleanpunc(w).split():\n",
    "            if((cleaned_words.isalpha()) & (len(cleaned_words)>2)):\n",
    "                if(cleaned_words.lower() not in stop):\n",
    "                    s=(sno.stem(cleaned_words.lower())).encode('utf8')\n",
    "                    filtered_sentence.append(s)\n",
    "                    if (clut_ar['Score'].values)[i] == 'positive':\n",
    "                        all_positive_words.append(s)\n",
    "                    if (clut_ar['Score'].values)[i] == 'negative':\n",
    "                        all_negative_words.append(s)\n",
    "                    else:\n",
    "                        continue\n",
    "                else:\n",
    "                    continue\n",
    "    str1 = b\" \".join(filtered_sentence)\n",
    "   # print(\"***********************************************************************888\")\n",
    "    final_string.append(str1)\n",
    "    i+=1"
   ]
  },
  {
   "cell_type": "code",
   "execution_count": 27,
   "metadata": {},
   "outputs": [],
   "source": [
    "clut_ar['CleanedText']=final_string"
   ]
  },
  {
   "cell_type": "code",
   "execution_count": 28,
   "metadata": {},
   "outputs": [],
   "source": [
    "import gensim\n",
    "from gensim.models import word2vec\n",
    "from gensim.models import keyedvectors\n",
    "import pickle\n",
    "i=0\n",
    "list_of_sent=[]\n",
    "for sent in clut_ar['Text'].values:\n",
    "    filtered_sentence=[]\n",
    "    sent=cleanhtml(sent)\n",
    "    for w in sent.split():\n",
    "        for cleaned_words in cleanpunc(w).split():\n",
    "            if(cleaned_words.isalpha()):\n",
    "                filtered_sentence.append(cleaned_words.lower())\n",
    "            else:\n",
    "                continue\n",
    "    list_of_sent.append(filtered_sentence) "
   ]
  },
  {
   "cell_type": "code",
   "execution_count": 29,
   "metadata": {},
   "outputs": [
    {
     "name": "stdout",
     "output_type": "stream",
     "text": [
      "I have bought several of the Vitality canned dog food products and have found them all to be of good quality. The product looks more like a stew than a processed meat and it smells better. My Labrador is finicky and she appreciates this product better than  most.\n",
      "***********************************************************************************\n",
      "['i', 'have', 'bought', 'several', 'of', 'the', 'vitality', 'canned', 'dog', 'food', 'products', 'and', 'have', 'found', 'them', 'all', 'to', 'be', 'of', 'good', 'quality', 'the', 'product', 'looks', 'more', 'like', 'a', 'stew', 'than', 'a', 'processed', 'meat', 'and', 'it', 'smells', 'better', 'my', 'labrador', 'is', 'finicky', 'and', 'she', 'appreciates', 'this', 'product', 'better', 'than', 'most']\n"
     ]
    }
   ],
   "source": [
    "print(clut_ar['Text'].values[0])\n",
    "print(\"***********************************************************************************\")\n",
    "print(list_of_sent[0])\n",
    "# conda install gensim"
   ]
  },
  {
   "cell_type": "code",
   "execution_count": 30,
   "metadata": {},
   "outputs": [],
   "source": [
    "i=0\n",
    "list_of_sentance_train=[]\n",
    "for sentance in X_train:\n",
    "    list_of_sentance_train.append(sentance.split())"
   ]
  },
  {
   "cell_type": "code",
   "execution_count": 31,
   "metadata": {},
   "outputs": [],
   "source": [
    "w2v_model=Word2Vec(list_of_sentance_train,min_count=5,size=50, workers=4)"
   ]
  },
  {
   "cell_type": "code",
   "execution_count": 32,
   "metadata": {},
   "outputs": [
    {
     "name": "stdout",
     "output_type": "stream",
     "text": [
      "number of words that occured minimum 5 times  11797\n",
      "sample words  [\"It's\", 'hard', 'to', 'find', 'a', 'good', 'quality', 'dog', 'treat', 'at', 'the', 'grocery', 'stores', 'and', 'even', 'most', 'pet', 'stores.', 'Many', 'have', 'added', 'sugars', 'artificial', 'ingredients', 'as', 'well', 'harmful', 'chemicals.', 'But', 'these', 'nothing', 'but', 'natural', 'you', 'can', 'rice,', 'fruits,', 'vegetables,', 'cheese', 'etc.', 'Made', 'in', 'grown', 'North', 'America.', 'My', 'dogs', 'love', 'them,', 'treats']\n"
     ]
    }
   ],
   "source": [
    "w2v_words = list(w2v_model.wv.vocab)\n",
    "print(\"number of words that occured minimum 5 times \",len(w2v_words))\n",
    "print(\"sample words \", w2v_words[0:50])"
   ]
  },
  {
   "cell_type": "code",
   "execution_count": 33,
   "metadata": {},
   "outputs": [
    {
     "name": "stderr",
     "output_type": "stream",
     "text": [
      "100%|███████████████████████████████████████████████████████████████████████████| 30000/30000 [02:26<00:00, 204.92it/s]\n"
     ]
    },
    {
     "name": "stdout",
     "output_type": "stream",
     "text": [
      "30000\n",
      "50\n"
     ]
    }
   ],
   "source": [
    "from tqdm import tqdm \n",
    "sent_vectors = [];\n",
    "for sent in tqdm(list_of_sent):\n",
    "    sent_vec = np.zeros(50)\n",
    "    cnt_words =0;\n",
    "    for word in sent:\n",
    "        if word in w2v_words:\n",
    "            vec = w2v_model.wv[word]\n",
    "            sent_vec += vec\n",
    "            cnt_words += 1\n",
    "    if cnt_words != 0:\n",
    "        sent_vec /= cnt_words\n",
    "    sent_vectors.append(sent_vec)\n",
    "print(len(sent_vectors))\n",
    "print(len(sent_vectors[0]))"
   ]
  },
  {
   "cell_type": "markdown",
   "metadata": {},
   "source": [
    "<h2> Word2Vec In Train Data </h2>"
   ]
  },
  {
   "cell_type": "code",
   "execution_count": 34,
   "metadata": {},
   "outputs": [
    {
     "name": "stderr",
     "output_type": "stream",
     "text": [
      "100%|███████████████████████████████████████████████████████████████████████████| 13467/13467 [01:55<00:00, 116.40it/s]\n"
     ]
    },
    {
     "name": "stdout",
     "output_type": "stream",
     "text": [
      "(13467, 50)\n",
      "[-0.10457382  0.06333311 -0.02096282 -0.5512041  -0.14199683 -0.00236351\n",
      "  0.20421323 -0.35189615  0.20166237 -0.61621877 -0.12823153  0.42686244\n",
      "  0.03153159 -0.16674811 -0.24052196  0.3332024   0.10300841 -0.39013841\n",
      "  0.17368365  0.29315471 -0.18413057 -0.02371396 -0.20189495  0.17655332\n",
      " -0.10932525 -0.22835547  0.26222669 -0.15021647  0.20556332  0.13175278\n",
      "  0.11848418  0.12060755  0.26813519  0.19798249 -0.42766284 -0.00341162\n",
      "  0.30933586 -0.03407761 -0.03234827  0.0189308   0.21055428 -0.10894367\n",
      "  0.31295938  0.0740459  -0.24634456 -0.15959333  0.00448981 -0.36246186\n",
      "  0.31285807 -0.07109457]\n"
     ]
    }
   ],
   "source": [
    "sent_vectors_train = []; \n",
    "for sent in tqdm(list_of_sentance_train): \n",
    "    sent_vec = np.zeros(50) \n",
    "    for word in sent: \n",
    "        if word in w2v_words:\n",
    "            vec = w2v_model.wv[word]\n",
    "            sent_vec += vec\n",
    "            cnt_words += 1\n",
    "    if cnt_words != 0:\n",
    "        sent_vec /= cnt_words\n",
    "    sent_vectors_train.append(sent_vec)\n",
    "sent_vectors_train = np.array(sent_vectors_train)\n",
    "print(sent_vectors_train.shape)\n",
    "print(sent_vectors_train[0])"
   ]
  },
  {
   "cell_type": "markdown",
   "metadata": {},
   "source": [
    "<h2> Word2Vec In Cross-Validation Data </h2>"
   ]
  },
  {
   "cell_type": "code",
   "execution_count": 35,
   "metadata": {},
   "outputs": [],
   "source": [
    "i=0\n",
    "list_of_sentance_cv=[]\n",
    "for sentance in X_cv:\n",
    "    list_of_sentance_cv.append(sentance.split())"
   ]
  },
  {
   "cell_type": "code",
   "execution_count": 36,
   "metadata": {},
   "outputs": [
    {
     "name": "stderr",
     "output_type": "stream",
     "text": [
      "100%|█████████████████████████████████████████████████████████████████████████████| 6633/6633 [00:46<00:00, 141.57it/s]\n"
     ]
    },
    {
     "name": "stdout",
     "output_type": "stream",
     "text": [
      "(6633, 50)\n",
      "[ 2.63430856e-01 -7.06170740e-03 -3.16299319e-01 -1.20900683e+00\n",
      " -8.30966722e-02  1.10187122e-01  1.01050488e+00 -7.03304380e-01\n",
      "  1.05734640e+00 -6.25574562e-01 -1.98248342e-01  1.11151121e+00\n",
      " -4.91449933e-01 -4.72154324e-01 -2.10447076e-01 -6.36925314e-02\n",
      " -2.67432512e-01 -2.40535349e-01  9.76618039e-01  6.83629246e-01\n",
      " -3.24590803e-01  3.90393307e-01 -3.62191719e-01  5.41331899e-01\n",
      "  3.46172852e-01 -7.80582655e-01  2.76951658e-01 -4.79865989e-01\n",
      "  1.20436845e-01  5.52859233e-01 -6.05584757e-02  4.55863143e-02\n",
      "  4.04173472e-04  2.99416120e-01 -4.70131056e-02  3.62654711e-01\n",
      "  1.94354254e-01  8.64719018e-02 -1.11230113e+00  4.44885647e-01\n",
      "  2.64860692e-01 -5.01174298e-01  6.11861350e-01  8.25874293e-01\n",
      " -3.10264680e-01 -4.98798949e-02  2.40522536e-01 -7.30000291e-01\n",
      "  4.24015913e-01 -2.85758518e-01]\n"
     ]
    }
   ],
   "source": [
    "sent_vectors_cv = []; \n",
    "for sent in tqdm(list_of_sentance_cv): \n",
    "    sent_vec = np.zeros(50) \n",
    "    cnt_words =0; \n",
    "    for word in sent: \n",
    "        if word in w2v_words:\n",
    "            vec = w2v_model.wv[word]\n",
    "            sent_vec += vec\n",
    "            cnt_words += 1\n",
    "    if cnt_words != 0:\n",
    "        sent_vec /= cnt_words\n",
    "    sent_vectors_cv.append(sent_vec)\n",
    "sent_vectors_cv = np.array(sent_vectors_cv)\n",
    "print(sent_vectors_cv.shape)\n",
    "print(sent_vectors_cv[0])"
   ]
  },
  {
   "cell_type": "markdown",
   "metadata": {},
   "source": [
    "<h2> Word2Vec In Test Data </h2>"
   ]
  },
  {
   "cell_type": "code",
   "execution_count": 37,
   "metadata": {},
   "outputs": [],
   "source": [
    "i=0\n",
    "list_of_sentance_test=[]\n",
    "for sentance in X_test:\n",
    "    list_of_sentance_test.append(sentance.split())"
   ]
  },
  {
   "cell_type": "code",
   "execution_count": 38,
   "metadata": {},
   "outputs": [
    {
     "name": "stderr",
     "output_type": "stream",
     "text": [
      "100%|█████████████████████████████████████████████████████████████████████████████| 9900/9900 [01:21<00:00, 121.54it/s]\n"
     ]
    },
    {
     "name": "stdout",
     "output_type": "stream",
     "text": [
      "(9900, 50)\n",
      "[-0.03028415  0.29001079  0.08284528 -0.94524237  0.17956536 -0.00390814\n",
      "  0.35708683 -0.30197871  0.7003748  -1.05223466 -0.13425823  0.91190597\n",
      " -0.22398501 -0.43496315 -0.57579183  0.34677986 -0.37605512 -0.21614617\n",
      "  0.86673453  0.62853063  0.0236905   0.08301894 -0.30301102  0.39630409\n",
      " -0.20452969 -0.14263419  0.35426803 -0.74403063  0.39210917  0.51029609\n",
      " -0.12796449 -0.05625389  0.42457486  0.43872963 -0.18446742 -0.07284697\n",
      "  0.14815987 -0.10166715 -0.45476142  0.71429302  0.12485682 -0.67766369\n",
      "  0.29566243  0.61365884 -0.43557976  0.12790705 -0.00360828 -0.59699811\n",
      "  0.09160771 -0.00810957]\n"
     ]
    }
   ],
   "source": [
    "sent_vectors_test = []; \n",
    "for sent in tqdm(list_of_sentance_test): \n",
    "    sent_vec = np.zeros(50) \n",
    "    cnt_words =0; \n",
    "    for word in sent: \n",
    "        if word in w2v_words:\n",
    "            vec = w2v_model.wv[word]\n",
    "            sent_vec += vec\n",
    "            cnt_words += 1\n",
    "    if cnt_words != 0:\n",
    "        sent_vec /= cnt_words\n",
    "    sent_vectors_test.append(sent_vec)\n",
    "sent_vectors_test = np.array(sent_vectors_test)\n",
    "print(sent_vectors_test.shape)\n",
    "print(sent_vectors_test[0])"
   ]
  },
  {
   "cell_type": "markdown",
   "metadata": {},
   "source": [
    "<h2> Applying KMeans </h2>"
   ]
  },
  {
   "cell_type": "code",
   "execution_count": 39,
   "metadata": {},
   "outputs": [
    {
     "data": {
      "text/plain": [
       "array([[-1.55926782e-05,  1.10041928e-04,  4.75253592e-05,\n",
       "        -4.48704437e-04, -1.32889192e-04,  1.41601456e-06,\n",
       "         3.37915408e-04, -2.71914311e-04,  2.87423031e-04,\n",
       "        -4.31558327e-04, -1.80936569e-05,  3.30169410e-04,\n",
       "        -7.21420061e-05, -1.46727620e-04, -1.34610723e-04,\n",
       "         2.00505665e-04, -7.02203287e-05, -1.68308583e-04,\n",
       "         2.31924533e-04,  2.43158692e-04, -2.43841706e-05,\n",
       "         1.06410320e-04, -9.97507308e-05,  1.93322695e-04,\n",
       "        -6.73904763e-05, -1.67054772e-04,  1.81261816e-04,\n",
       "        -2.81781582e-04,  1.28814967e-04,  1.78503237e-04,\n",
       "         3.80699575e-05, -1.38717191e-05,  1.77931266e-04,\n",
       "         1.93401670e-04, -2.10454206e-04,  1.04890249e-06,\n",
       "         1.31701581e-04,  6.79726839e-05, -1.92071674e-04,\n",
       "         1.24384688e-04,  1.34120834e-04, -2.65096711e-04,\n",
       "         2.63398033e-04,  2.45909825e-04, -1.45059315e-04,\n",
       "        -1.16611921e-04,  2.38032012e-05, -3.45875696e-04,\n",
       "         9.31804377e-05, -4.07091343e-05],\n",
       "       [-3.32164354e-03,  1.63807759e-02,  1.42892131e-01,\n",
       "        -5.11214201e-01, -9.11376707e-02,  1.05457387e-02,\n",
       "         3.24002001e-01, -2.19277557e-01,  2.63330452e-01,\n",
       "        -5.76823521e-01, -1.88300124e-01,  5.14387946e-01,\n",
       "        -8.86459125e-02, -1.70986062e-01, -3.26459013e-01,\n",
       "         2.40634845e-01, -4.67307390e-02, -2.27291123e-01,\n",
       "         3.34848080e-01,  2.20554042e-01, -2.70870926e-02,\n",
       "         1.28661895e-01, -1.34052448e-01,  1.56404233e-01,\n",
       "        -4.59619067e-02, -1.15444382e-01,  2.39552905e-01,\n",
       "        -2.24382213e-01,  2.00054758e-01,  2.28067577e-01,\n",
       "        -2.93916500e-02,  6.94388520e-02,  1.37067208e-01,\n",
       "         2.88503603e-01, -2.63020267e-01, -5.54288968e-02,\n",
       "         1.20956005e-01,  9.86521412e-02, -3.13690304e-01,\n",
       "         2.53838928e-01,  1.72626343e-01, -3.28233064e-01,\n",
       "         3.53670130e-01,  1.57418348e-01, -2.49957650e-01,\n",
       "         3.10325906e-02,  4.19680976e-03, -3.16219380e-01,\n",
       "         8.68578430e-02,  2.94884091e-02],\n",
       "       [-3.12874441e-02,  4.40867314e-02,  2.16959612e-02,\n",
       "        -1.93039918e-01, -5.98662526e-02,  4.10210478e-02,\n",
       "         1.40723996e-01, -1.21557740e-01,  8.03570306e-02,\n",
       "        -2.00822284e-01, -2.07734960e-02,  1.51729352e-01,\n",
       "        -1.09598466e-02, -6.05563381e-02, -5.54799339e-02,\n",
       "         1.24812469e-01, -8.87166365e-03, -9.54976404e-02,\n",
       "         9.88695494e-02,  1.14700014e-01, -1.66751375e-02,\n",
       "         3.61717775e-02, -4.09580116e-02,  9.97523379e-02,\n",
       "        -2.20163381e-02, -7.41456268e-02,  7.88453634e-02,\n",
       "        -1.25100747e-01,  7.80810073e-02,  7.22297992e-02,\n",
       "         2.68872596e-02,  6.35153181e-03,  9.08251873e-02,\n",
       "         7.71813270e-02, -1.30702656e-01, -2.35486654e-02,\n",
       "         8.96122262e-02,  3.79294337e-02, -6.39040186e-02,\n",
       "         5.45280777e-02,  5.86393513e-02, -9.97986812e-02,\n",
       "         1.19922424e-01,  9.37168131e-02, -7.21884787e-02,\n",
       "        -2.69687449e-02, -1.01639855e-02, -1.08856114e-01,\n",
       "         6.09731941e-02, -1.74567544e-04],\n",
       "       [-1.04573818e-01,  6.33331136e-02, -2.09628167e-02,\n",
       "        -5.51204098e-01, -1.41996834e-01, -2.36351178e-03,\n",
       "         2.04213234e-01, -3.51896150e-01,  2.01662373e-01,\n",
       "        -6.16218767e-01, -1.28231535e-01,  4.26862444e-01,\n",
       "         3.15315867e-02, -1.66748111e-01, -2.40521957e-01,\n",
       "         3.33202397e-01,  1.03008408e-01, -3.90138414e-01,\n",
       "         1.73683649e-01,  2.93154708e-01, -1.84130568e-01,\n",
       "        -2.37139608e-02, -2.01894950e-01,  1.76553324e-01,\n",
       "        -1.09325247e-01, -2.28355469e-01,  2.62226688e-01,\n",
       "        -1.50216469e-01,  2.05563317e-01,  1.31752782e-01,\n",
       "         1.18484183e-01,  1.20607548e-01,  2.68135186e-01,\n",
       "         1.97982494e-01, -4.27662836e-01, -3.41162421e-03,\n",
       "         3.09335855e-01, -3.40776090e-02, -3.23482650e-02,\n",
       "         1.89307963e-02,  2.10554283e-01, -1.08943666e-01,\n",
       "         3.12959384e-01,  7.40458988e-02, -2.46344560e-01,\n",
       "        -1.59593332e-01,  4.48981475e-03, -3.62461860e-01,\n",
       "         3.12858071e-01, -7.10945658e-02]])"
      ]
     },
     "execution_count": 39,
     "metadata": {},
     "output_type": "execute_result"
    }
   ],
   "source": [
    "kmeans = KMeans(init='k-means++', n_clusters=4, n_init=5) \n",
    "kmeans.fit(sent_vectors_train)\n",
    "kmeans.labels_\n",
    "kmeans.predict(sent_vectors_train)[0:10]\n",
    "kmeans.cluster_centers_"
   ]
  },
  {
   "cell_type": "code",
   "execution_count": 40,
   "metadata": {},
   "outputs": [
    {
     "name": "stdout",
     "output_type": "stream",
     "text": [
      "[3 1 2 ... 0 0 0]\n",
      "================================================================================\n",
      "[[-1.55926782e-05  1.10041928e-04  4.75253592e-05 -4.48704437e-04\n",
      "  -1.32889192e-04  1.41601456e-06  3.37915408e-04 -2.71914311e-04\n",
      "   2.87423031e-04 -4.31558327e-04 -1.80936569e-05  3.30169410e-04\n",
      "  -7.21420061e-05 -1.46727620e-04 -1.34610723e-04  2.00505665e-04\n",
      "  -7.02203287e-05 -1.68308583e-04  2.31924533e-04  2.43158692e-04\n",
      "  -2.43841706e-05  1.06410320e-04 -9.97507308e-05  1.93322695e-04\n",
      "  -6.73904763e-05 -1.67054772e-04  1.81261816e-04 -2.81781582e-04\n",
      "   1.28814967e-04  1.78503237e-04  3.80699575e-05 -1.38717191e-05\n",
      "   1.77931266e-04  1.93401670e-04 -2.10454206e-04  1.04890249e-06\n",
      "   1.31701581e-04  6.79726839e-05 -1.92071674e-04  1.24384688e-04\n",
      "   1.34120834e-04 -2.65096711e-04  2.63398033e-04  2.45909825e-04\n",
      "  -1.45059315e-04 -1.16611921e-04  2.38032012e-05 -3.45875696e-04\n",
      "   9.31804377e-05 -4.07091343e-05]\n",
      " [-3.32164354e-03  1.63807759e-02  1.42892131e-01 -5.11214201e-01\n",
      "  -9.11376707e-02  1.05457387e-02  3.24002001e-01 -2.19277557e-01\n",
      "   2.63330452e-01 -5.76823521e-01 -1.88300124e-01  5.14387946e-01\n",
      "  -8.86459125e-02 -1.70986062e-01 -3.26459013e-01  2.40634845e-01\n",
      "  -4.67307390e-02 -2.27291123e-01  3.34848080e-01  2.20554042e-01\n",
      "  -2.70870926e-02  1.28661895e-01 -1.34052448e-01  1.56404233e-01\n",
      "  -4.59619067e-02 -1.15444382e-01  2.39552905e-01 -2.24382213e-01\n",
      "   2.00054758e-01  2.28067577e-01 -2.93916500e-02  6.94388520e-02\n",
      "   1.37067208e-01  2.88503603e-01 -2.63020267e-01 -5.54288968e-02\n",
      "   1.20956005e-01  9.86521412e-02 -3.13690304e-01  2.53838928e-01\n",
      "   1.72626343e-01 -3.28233064e-01  3.53670130e-01  1.57418348e-01\n",
      "  -2.49957650e-01  3.10325906e-02  4.19680976e-03 -3.16219380e-01\n",
      "   8.68578430e-02  2.94884091e-02]\n",
      " [-3.12874441e-02  4.40867314e-02  2.16959612e-02 -1.93039918e-01\n",
      "  -5.98662526e-02  4.10210478e-02  1.40723996e-01 -1.21557740e-01\n",
      "   8.03570306e-02 -2.00822284e-01 -2.07734960e-02  1.51729352e-01\n",
      "  -1.09598466e-02 -6.05563381e-02 -5.54799339e-02  1.24812469e-01\n",
      "  -8.87166365e-03 -9.54976404e-02  9.88695494e-02  1.14700014e-01\n",
      "  -1.66751375e-02  3.61717775e-02 -4.09580116e-02  9.97523379e-02\n",
      "  -2.20163381e-02 -7.41456268e-02  7.88453634e-02 -1.25100747e-01\n",
      "   7.80810073e-02  7.22297992e-02  2.68872596e-02  6.35153181e-03\n",
      "   9.08251873e-02  7.71813270e-02 -1.30702656e-01 -2.35486654e-02\n",
      "   8.96122262e-02  3.79294337e-02 -6.39040186e-02  5.45280777e-02\n",
      "   5.86393513e-02 -9.97986812e-02  1.19922424e-01  9.37168131e-02\n",
      "  -7.21884787e-02 -2.69687449e-02 -1.01639855e-02 -1.08856114e-01\n",
      "   6.09731941e-02 -1.74567544e-04]\n",
      " [-1.04573818e-01  6.33331136e-02 -2.09628167e-02 -5.51204098e-01\n",
      "  -1.41996834e-01 -2.36351178e-03  2.04213234e-01 -3.51896150e-01\n",
      "   2.01662373e-01 -6.16218767e-01 -1.28231535e-01  4.26862444e-01\n",
      "   3.15315867e-02 -1.66748111e-01 -2.40521957e-01  3.33202397e-01\n",
      "   1.03008408e-01 -3.90138414e-01  1.73683649e-01  2.93154708e-01\n",
      "  -1.84130568e-01 -2.37139608e-02 -2.01894950e-01  1.76553324e-01\n",
      "  -1.09325247e-01 -2.28355469e-01  2.62226688e-01 -1.50216469e-01\n",
      "   2.05563317e-01  1.31752782e-01  1.18484183e-01  1.20607548e-01\n",
      "   2.68135186e-01  1.97982494e-01 -4.27662836e-01 -3.41162421e-03\n",
      "   3.09335855e-01 -3.40776090e-02 -3.23482650e-02  1.89307963e-02\n",
      "   2.10554283e-01 -1.08943666e-01  3.12959384e-01  7.40458988e-02\n",
      "  -2.46344560e-01 -1.59593332e-01  4.48981475e-03 -3.62461860e-01\n",
      "   3.12858071e-01 -7.10945658e-02]]\n",
      "================================================================================\n",
      "[3 1 2 ... 0 0 0]\n",
      "================================================================================\n"
     ]
    }
   ],
   "source": [
    "print(kmeans.predict(sent_vectors_train))\n",
    "print('='*80)\n",
    "print(kmeans.cluster_centers_)\n",
    "print('='*80)\n",
    "print(kmeans.labels_)\n",
    "print('='*80)"
   ]
  },
  {
   "cell_type": "markdown",
   "metadata": {},
   "source": [
    "<h2> Applying Elbow-Knee Methon For Best K </h2>"
   ]
  },
  {
   "cell_type": "code",
   "execution_count": 41,
   "metadata": {},
   "outputs": [
    {
     "name": "stdout",
     "output_type": "stream",
     "text": [
      "Fitting 3 folds for each of 9 candidates, totalling 27 fits\n"
     ]
    },
    {
     "name": "stderr",
     "output_type": "stream",
     "text": [
      "[Parallel(n_jobs=1)]: Using backend SequentialBackend with 1 concurrent workers.\n",
      "[Parallel(n_jobs=1)]: Done  27 out of  27 | elapsed:   22.0s finished\n"
     ]
    },
    {
     "name": "stdout",
     "output_type": "stream",
     "text": [
      "Best Cluster:  {'n_clusters': 9}\n"
     ]
    }
   ],
   "source": [
    "from sklearn.model_selection import GridSearchCV\n",
    "for i in range(1,10):\n",
    "    clf = KMeans(n_clusters = i)\n",
    "param_grid = {'n_clusters':[1,2, 3, 4, 5, 6, 7, 8, 9] }\n",
    "gsv = GridSearchCV(clf,param_grid,verbose=1)\n",
    "gsv.fit(sent_vectors_train,y_train)\n",
    "print(\"Best Cluster: \",gsv.best_params_)"
   ]
  },
  {
   "cell_type": "code",
   "execution_count": 42,
   "metadata": {},
   "outputs": [
    {
     "data": {
      "image/png": "[encoded data removed]",
      "text/plain": [
       "<Figure size 432x288 with 1 Axes>"
      ]
     },
     "metadata": {},
     "output_type": "display_data"
    }
   ],
   "source": [
    "#https://github.com/Manish-12/Clustering-Techniques-on-Amazon-fine-food-reviews/blob/master/Kmeans.ipynb\n",
    "dic = {}\n",
    "for i in range(1,10):\n",
    "    clus = KMeans(n_clusters = i)\n",
    "    clus.fit(sent_vectors_train)\n",
    "    dic[i] = clus.inertia_\n",
    "plt.plot(list(dic.keys()), list(dic.values()))\n",
    "plt.xlabel(\"No. of cluster\")\n",
    "plt.ylabel(\"Inertia\")\n",
    "plt.show()"
   ]
  },
  {
   "cell_type": "markdown",
   "metadata": {},
   "source": [
    "<h2> WordCloud For KMeans </h2>"
   ]
  },
  {
   "cell_type": "code",
   "execution_count": 43,
   "metadata": {},
   "outputs": [
    {
     "data": {
      "image/png": "[encoded data removed]",
      "text/plain": [
       "<Figure size 432x288 with 1 Axes>"
      ]
     },
     "metadata": {},
     "output_type": "display_data"
    }
   ],
   "source": [
    "#https://github.com/Manish-12/Clustering-Techniques-on-Amazon-fine-food-reviews/blob/master/Kmeans.ipynb\n",
    "clf = KMeans(n_clusters = 9)\n",
    "b = clf.fit_predict(sent_vectors_train)\n",
    "\n",
    "index = []\n",
    "for i in range(len(b)):\n",
    "    if b[i] == 1:\n",
    "        index.append(i)\n",
    "        \n",
    "len(index)\n",
    "text = []\n",
    "for i in range(len(index)):\n",
    "    text.append(list_of_sent[index[i]])\n",
    "    \n",
    "from wordcloud import WordCloud\n",
    "from matplotlib.pyplot import figure\n",
    "t_b = ''\n",
    "for j in range(len(text)):\n",
    "    for i in range(len(text[j])):\n",
    "        t_b = t_b + text[j][i] + ' '\n",
    "\n",
    "word_cloud = WordCloud(relative_scaling = 1.0).generate(t_b)\n",
    "plt.imshow(word_cloud,aspect='auto')\n",
    "plt.axis('off')\n",
    "plt.show()    "
   ]
  },
  {
   "cell_type": "markdown",
   "metadata": {},
   "source": [
    "<h2> ====================================================================== </h2>"
   ]
  },
  {
   "cell_type": "markdown",
   "metadata": {},
   "source": [
    "<h2> AvgWord2Vec </h2>"
   ]
  },
  {
   "cell_type": "markdown",
   "metadata": {},
   "source": [
    "<h2> AvgWord2Vec In Train Data </h2>"
   ]
  },
  {
   "cell_type": "code",
   "execution_count": 44,
   "metadata": {},
   "outputs": [
    {
     "name": "stderr",
     "output_type": "stream",
     "text": [
      "100%|████████████████████████████████████████████████████████████████████████████| 13467/13467 [11:35<00:00, 19.36it/s]\n"
     ]
    },
    {
     "name": "stdout",
     "output_type": "stream",
     "text": [
      "(13467, 50)\n",
      "[-0.10457382  0.06333311 -0.02096282 -0.5512041  -0.14199683 -0.00236351\n",
      "  0.20421323 -0.35189615  0.20166237 -0.61621877 -0.12823153  0.42686244\n",
      "  0.03153159 -0.16674811 -0.24052196  0.3332024   0.10300841 -0.39013841\n",
      "  0.17368365  0.29315471 -0.18413057 -0.02371396 -0.20189495  0.17655332\n",
      " -0.10932525 -0.22835547  0.26222669 -0.15021647  0.20556332  0.13175278\n",
      "  0.11848418  0.12060755  0.26813519  0.19798249 -0.42766284 -0.00341162\n",
      "  0.30933586 -0.03407761 -0.03234827  0.0189308   0.21055428 -0.10894367\n",
      "  0.31295938  0.0740459  -0.24634456 -0.15959333  0.00448981 -0.36246186\n",
      "  0.31285807 -0.07109457]\n"
     ]
    }
   ],
   "source": [
    "from tqdm import tqdm \n",
    "model = TfidfVectorizer()\n",
    "tf_idf_matrix = model.fit_transform(clut_ar['CleanedText'].values)\n",
    "\n",
    "dictionary = dict(zip(model.get_feature_names(), list(model.idf_)))\n",
    "\n",
    "\n",
    "tfidf_feat = model.get_feature_names()\n",
    "tfidf_sent_vectors_train = [];\n",
    "row=0;\n",
    "for sent in tqdm(list_of_sentance_train):\n",
    "    sent_vec = np.zeros(50)\n",
    "    weight_sum =0;\n",
    "    for word in sent:\n",
    "        if word in w2v_words and word in tfidf_feat:\n",
    "            vec = w2v_model.wv[word]\n",
    "            tf_idf = dictionary[word]*(sent.count(word)/len(sent))  \n",
    "            sent_vec += (vec * tf_idf)\n",
    "            weight_sum += tf_idf\n",
    "    if weight_sum != 0:\n",
    "        sent_vec /= weight_sum\n",
    "    tfidf_sent_vectors_train.append(sent_vec)\n",
    "    row += 1\n",
    "    \n",
    "tfidf_sent_vectors_train = np.array(sent_vectors_train)\n",
    "print(tfidf_sent_vectors_train.shape)\n",
    "print(tfidf_sent_vectors_train[0])"
   ]
  },
  {
   "cell_type": "markdown",
   "metadata": {},
   "source": [
    "<h2> AvgWord2Vec In Cross-Validation Data </h2>"
   ]
  },
  {
   "cell_type": "code",
   "execution_count": 45,
   "metadata": {},
   "outputs": [
    {
     "name": "stderr",
     "output_type": "stream",
     "text": [
      "100%|██████████████████████████████████████████████████████████████████████████████| 6633/6633 [05:44<00:00, 19.25it/s]\n"
     ]
    },
    {
     "name": "stdout",
     "output_type": "stream",
     "text": [
      "(6633, 50)\n",
      "[ 2.63430856e-01 -7.06170740e-03 -3.16299319e-01 -1.20900683e+00\n",
      " -8.30966722e-02  1.10187122e-01  1.01050488e+00 -7.03304380e-01\n",
      "  1.05734640e+00 -6.25574562e-01 -1.98248342e-01  1.11151121e+00\n",
      " -4.91449933e-01 -4.72154324e-01 -2.10447076e-01 -6.36925314e-02\n",
      " -2.67432512e-01 -2.40535349e-01  9.76618039e-01  6.83629246e-01\n",
      " -3.24590803e-01  3.90393307e-01 -3.62191719e-01  5.41331899e-01\n",
      "  3.46172852e-01 -7.80582655e-01  2.76951658e-01 -4.79865989e-01\n",
      "  1.20436845e-01  5.52859233e-01 -6.05584757e-02  4.55863143e-02\n",
      "  4.04173472e-04  2.99416120e-01 -4.70131056e-02  3.62654711e-01\n",
      "  1.94354254e-01  8.64719018e-02 -1.11230113e+00  4.44885647e-01\n",
      "  2.64860692e-01 -5.01174298e-01  6.11861350e-01  8.25874293e-01\n",
      " -3.10264680e-01 -4.98798949e-02  2.40522536e-01 -7.30000291e-01\n",
      "  4.24015913e-01 -2.85758518e-01]\n"
     ]
    }
   ],
   "source": [
    "from tqdm import tqdm \n",
    "model = TfidfVectorizer()\n",
    "tf_idf_matrix = model.fit_transform(clut_ar['CleanedText'].values)\n",
    "\n",
    "dictionary = dict(zip(model.get_feature_names(), list(model.idf_)))\n",
    "\n",
    "\n",
    "tfidf_feat = model.get_feature_names()\n",
    "tfidf_sent_vectors_cv = [];\n",
    "row=0;\n",
    "for sent in tqdm(list_of_sentance_cv):\n",
    "    sent_vec = np.zeros(50)\n",
    "    weight_sum =0;\n",
    "    for word in sent:\n",
    "        if word in w2v_words and word in tfidf_feat:\n",
    "            vec = w2v_model.wv[word]\n",
    "            tf_idf = dictionary[word]*(sent.count(word)/len(sent))  \n",
    "            sent_vec += (vec * tf_idf)\n",
    "            weight_sum += tf_idf\n",
    "    if weight_sum != 0:\n",
    "        sent_vec /= weight_sum\n",
    "    tfidf_sent_vectors_cv.append(sent_vec)\n",
    "    row += 1\n",
    "    \n",
    "tfidf_sent_vectors_cv = np.array(sent_vectors_cv)\n",
    "print(tfidf_sent_vectors_cv.shape)\n",
    "print(tfidf_sent_vectors_cv[0])"
   ]
  },
  {
   "cell_type": "markdown",
   "metadata": {},
   "source": [
    "<h2> AvgWord2Vec In Test Data </h2>"
   ]
  },
  {
   "cell_type": "code",
   "execution_count": 46,
   "metadata": {},
   "outputs": [
    {
     "name": "stderr",
     "output_type": "stream",
     "text": [
      "100%|██████████████████████████████████████████████████████████████████████████████| 9900/9900 [07:09<00:00, 23.06it/s]\n"
     ]
    },
    {
     "name": "stdout",
     "output_type": "stream",
     "text": [
      "(9900, 50)\n",
      "[-0.03028415  0.29001079  0.08284528 -0.94524237  0.17956536 -0.00390814\n",
      "  0.35708683 -0.30197871  0.7003748  -1.05223466 -0.13425823  0.91190597\n",
      " -0.22398501 -0.43496315 -0.57579183  0.34677986 -0.37605512 -0.21614617\n",
      "  0.86673453  0.62853063  0.0236905   0.08301894 -0.30301102  0.39630409\n",
      " -0.20452969 -0.14263419  0.35426803 -0.74403063  0.39210917  0.51029609\n",
      " -0.12796449 -0.05625389  0.42457486  0.43872963 -0.18446742 -0.07284697\n",
      "  0.14815987 -0.10166715 -0.45476142  0.71429302  0.12485682 -0.67766369\n",
      "  0.29566243  0.61365884 -0.43557976  0.12790705 -0.00360828 -0.59699811\n",
      "  0.09160771 -0.00810957]\n"
     ]
    }
   ],
   "source": [
    "from tqdm import tqdm \n",
    "model = TfidfVectorizer()\n",
    "tf_idf_matrix = model.fit_transform(clut_ar['CleanedText'].values)\n",
    "\n",
    "dictionary = dict(zip(model.get_feature_names(), list(model.idf_)))\n",
    "\n",
    "\n",
    "tfidf_feat = model.get_feature_names()n\n",
    "tfidf_sent_vectors_test = [];\n",
    "row=0;\n",
    "for sent in tqdm(list_of_sentance_test):\n",
    "    sent_vec = np.zeros(50)\n",
    "    weight_sum =0;\n",
    "    for word in sent:\n",
    "        if word in w2v_words and word in tfidf_feat:\n",
    "            vec = w2v_model.wv[word]\n",
    "            tf_idf = dictionary[word]*(sent.count(word)/len(sent))  \n",
    "            sent_vec += (vec * tf_idf)\n",
    "            weight_sum += tf_idf\n",
    "    if weight_sum != 0:\n",
    "        sent_vec /= weight_sum\n",
    "    tfidf_sent_vectors_test.append(sent_vec)\n",
    "    row += 1\n",
    "tfidf_sent_vectors_test = np.array(sent_vectors_test)\n",
    "print(tfidf_sent_vectors_test.shape)\n",
    "print(tfidf_sent_vectors_test[0])   "
   ]
  },
  {
   "cell_type": "markdown",
   "metadata": {},
   "source": [
    "<h2> Applying KMeans </h2>"
   ]
  },
  {
   "cell_type": "code",
   "execution_count": 47,
   "metadata": {},
   "outputs": [
    {
     "data": {
      "text/plain": [
       "array([[-7.36853267e-06,  8.20677404e-05,  3.89042987e-05,\n",
       "        -3.57900383e-04, -1.03298624e-04,  1.24738623e-06,\n",
       "         2.69836934e-04, -2.12697142e-04,  2.28833977e-04,\n",
       "        -3.40974756e-04, -1.76230001e-05,  2.62987436e-04,\n",
       "        -5.77761145e-05, -1.16144893e-04, -1.04089436e-04,\n",
       "         1.57176485e-04, -5.72508409e-05, -1.31360994e-04,\n",
       "         1.86756188e-04,  1.87720010e-04, -1.90805505e-05,\n",
       "         8.78668980e-05, -7.92212118e-05,  1.52609261e-04,\n",
       "        -5.16994115e-05, -1.33273258e-04,  1.45846449e-04,\n",
       "        -2.22992005e-04,  1.02661355e-04,  1.40049287e-04,\n",
       "         2.58624394e-05, -9.42577225e-06,  1.42396516e-04,\n",
       "         1.52732001e-04, -1.60311727e-04,  1.48602317e-06,\n",
       "         1.05207967e-04,  5.33202074e-05, -1.56134113e-04,\n",
       "         9.65913650e-05,  1.06768800e-04, -2.09981656e-04,\n",
       "         2.10544777e-04,  1.96779054e-04, -1.14364782e-04,\n",
       "        -9.77256464e-05,  2.10767624e-05, -2.76216660e-04,\n",
       "         7.36812623e-05, -3.54429994e-05],\n",
       "       [-5.39477310e-02,  3.98569448e-02,  6.09646569e-02,\n",
       "        -5.31209150e-01, -1.16567252e-01,  4.09111346e-03,\n",
       "         2.64107617e-01, -2.85586853e-01,  2.32496412e-01,\n",
       "        -5.96521144e-01, -1.58265829e-01,  4.70625195e-01,\n",
       "        -2.85571629e-02, -1.68867087e-01, -2.83490485e-01,\n",
       "         2.86918621e-01,  2.81388346e-02, -3.08714769e-01,\n",
       "         2.54265864e-01,  2.56854375e-01, -1.05608830e-01,\n",
       "         5.24739673e-02, -1.67973699e-01,  1.66478778e-01,\n",
       "        -7.76435771e-02, -1.71899925e-01,  2.50889797e-01,\n",
       "        -1.87299341e-01,  2.02809038e-01,  1.79910180e-01,\n",
       "         4.45462665e-02,  9.50231998e-02,  2.02601197e-01,\n",
       "         2.43243049e-01, -3.45341551e-01, -2.94202605e-02,\n",
       "         2.15145930e-01,  3.22872661e-02, -1.73019284e-01,\n",
       "         1.36384862e-01,  1.91590313e-01, -2.18588365e-01,\n",
       "         3.33314757e-01,  1.15732123e-01, -2.48151105e-01,\n",
       "        -6.42803708e-02,  4.34331226e-03, -3.39340620e-01,\n",
       "         1.99857957e-01, -2.08030783e-02],\n",
       "       [-3.12874441e-02,  4.40867314e-02,  2.16959612e-02,\n",
       "        -1.93039918e-01, -5.98662526e-02,  4.10210478e-02,\n",
       "         1.40723996e-01, -1.21557740e-01,  8.03570306e-02,\n",
       "        -2.00822284e-01, -2.07734960e-02,  1.51729352e-01,\n",
       "        -1.09598466e-02, -6.05563381e-02, -5.54799339e-02,\n",
       "         1.24812469e-01, -8.87166365e-03, -9.54976404e-02,\n",
       "         9.88695494e-02,  1.14700014e-01, -1.66751375e-02,\n",
       "         3.61717775e-02, -4.09580116e-02,  9.97523379e-02,\n",
       "        -2.20163381e-02, -7.41456268e-02,  7.88453634e-02,\n",
       "        -1.25100747e-01,  7.80810073e-02,  7.22297992e-02,\n",
       "         2.68872596e-02,  6.35153181e-03,  9.08251873e-02,\n",
       "         7.71813270e-02, -1.30702656e-01, -2.35486654e-02,\n",
       "         8.96122262e-02,  3.79294337e-02, -6.39040186e-02,\n",
       "         5.45280777e-02,  5.86393513e-02, -9.97986812e-02,\n",
       "         1.19922424e-01,  9.37168131e-02, -7.21884787e-02,\n",
       "        -2.69687449e-02, -1.01639855e-02, -1.08856114e-01,\n",
       "         6.09731941e-02, -1.74567544e-04],\n",
       "       [-3.36182304e-03,  1.14921456e-02,  3.55525201e-03,\n",
       "        -3.73949479e-02, -1.21726633e-02,  7.00273060e-05,\n",
       "         2.80376023e-02, -2.43661245e-02,  2.41260661e-02,\n",
       "        -3.72880920e-02, -2.09593949e-04,  2.76650894e-02,\n",
       "        -5.91731855e-03, -1.25901908e-02, -1.25530747e-02,\n",
       "         1.78302297e-02, -5.34722982e-03, -1.52014988e-02,\n",
       "         1.86099660e-02,  2.27999825e-02, -2.18231468e-03,\n",
       "         7.65133545e-03, -8.45277656e-03,  1.67587557e-02,\n",
       "        -6.45175188e-03, -1.39120363e-02,  1.45910233e-02,\n",
       "        -2.42020132e-02,  1.07701646e-02,  1.58246000e-02,\n",
       "         5.00505012e-03, -1.82283318e-03,  1.46362672e-02,\n",
       "         1.67410272e-02, -2.06123654e-02, -1.76806227e-04,\n",
       "         1.09113908e-02,  6.02975457e-03, -1.48143028e-02,\n",
       "         1.14328981e-02,  1.12630832e-02, -2.26902436e-02,\n",
       "         2.17682668e-02,  2.02361783e-02, -1.26340141e-02,\n",
       "        -7.80103660e-03,  1.13313332e-03, -2.86886599e-02,\n",
       "         8.02698126e-03, -2.18338773e-03]])"
      ]
     },
     "execution_count": 47,
     "metadata": {},
     "output_type": "execute_result"
    }
   ],
   "source": [
    "kmeans = KMeans(init='k-means++', n_clusters=4, n_init=10) \n",
    "kmeans.fit(tfidf_sent_vectors_train)\n",
    "kmeans.labels_\n",
    "kmeans.predict(tfidf_sent_vectors_train)\n",
    "kmeans.cluster_centers_"
   ]
  },
  {
   "cell_type": "code",
   "execution_count": 48,
   "metadata": {},
   "outputs": [
    {
     "name": "stdout",
     "output_type": "stream",
     "text": [
      "[1 1 2 ... 0 0 0]\n",
      "================================================================================\n",
      "[[-7.36853267e-06  8.20677404e-05  3.89042987e-05 -3.57900383e-04\n",
      "  -1.03298624e-04  1.24738623e-06  2.69836934e-04 -2.12697142e-04\n",
      "   2.28833977e-04 -3.40974756e-04 -1.76230001e-05  2.62987436e-04\n",
      "  -5.77761145e-05 -1.16144893e-04 -1.04089436e-04  1.57176485e-04\n",
      "  -5.72508409e-05 -1.31360994e-04  1.86756188e-04  1.87720010e-04\n",
      "  -1.90805505e-05  8.78668980e-05 -7.92212118e-05  1.52609261e-04\n",
      "  -5.16994115e-05 -1.33273258e-04  1.45846449e-04 -2.22992005e-04\n",
      "   1.02661355e-04  1.40049287e-04  2.58624394e-05 -9.42577225e-06\n",
      "   1.42396516e-04  1.52732001e-04 -1.60311727e-04  1.48602317e-06\n",
      "   1.05207967e-04  5.33202074e-05 -1.56134113e-04  9.65913650e-05\n",
      "   1.06768800e-04 -2.09981656e-04  2.10544777e-04  1.96779054e-04\n",
      "  -1.14364782e-04 -9.77256464e-05  2.10767624e-05 -2.76216660e-04\n",
      "   7.36812623e-05 -3.54429994e-05]\n",
      " [-5.39477310e-02  3.98569448e-02  6.09646569e-02 -5.31209150e-01\n",
      "  -1.16567252e-01  4.09111346e-03  2.64107617e-01 -2.85586853e-01\n",
      "   2.32496412e-01 -5.96521144e-01 -1.58265829e-01  4.70625195e-01\n",
      "  -2.85571629e-02 -1.68867087e-01 -2.83490485e-01  2.86918621e-01\n",
      "   2.81388346e-02 -3.08714769e-01  2.54265864e-01  2.56854375e-01\n",
      "  -1.05608830e-01  5.24739673e-02 -1.67973699e-01  1.66478778e-01\n",
      "  -7.76435771e-02 -1.71899925e-01  2.50889797e-01 -1.87299341e-01\n",
      "   2.02809038e-01  1.79910180e-01  4.45462665e-02  9.50231998e-02\n",
      "   2.02601197e-01  2.43243049e-01 -3.45341551e-01 -2.94202605e-02\n",
      "   2.15145930e-01  3.22872661e-02 -1.73019284e-01  1.36384862e-01\n",
      "   1.91590313e-01 -2.18588365e-01  3.33314757e-01  1.15732123e-01\n",
      "  -2.48151105e-01 -6.42803708e-02  4.34331226e-03 -3.39340620e-01\n",
      "   1.99857957e-01 -2.08030783e-02]\n",
      " [-3.12874441e-02  4.40867314e-02  2.16959612e-02 -1.93039918e-01\n",
      "  -5.98662526e-02  4.10210478e-02  1.40723996e-01 -1.21557740e-01\n",
      "   8.03570306e-02 -2.00822284e-01 -2.07734960e-02  1.51729352e-01\n",
      "  -1.09598466e-02 -6.05563381e-02 -5.54799339e-02  1.24812469e-01\n",
      "  -8.87166365e-03 -9.54976404e-02  9.88695494e-02  1.14700014e-01\n",
      "  -1.66751375e-02  3.61717775e-02 -4.09580116e-02  9.97523379e-02\n",
      "  -2.20163381e-02 -7.41456268e-02  7.88453634e-02 -1.25100747e-01\n",
      "   7.80810073e-02  7.22297992e-02  2.68872596e-02  6.35153181e-03\n",
      "   9.08251873e-02  7.71813270e-02 -1.30702656e-01 -2.35486654e-02\n",
      "   8.96122262e-02  3.79294337e-02 -6.39040186e-02  5.45280777e-02\n",
      "   5.86393513e-02 -9.97986812e-02  1.19922424e-01  9.37168131e-02\n",
      "  -7.21884787e-02 -2.69687449e-02 -1.01639855e-02 -1.08856114e-01\n",
      "   6.09731941e-02 -1.74567544e-04]\n",
      " [-3.36182304e-03  1.14921456e-02  3.55525201e-03 -3.73949479e-02\n",
      "  -1.21726633e-02  7.00273060e-05  2.80376023e-02 -2.43661245e-02\n",
      "   2.41260661e-02 -3.72880920e-02 -2.09593949e-04  2.76650894e-02\n",
      "  -5.91731855e-03 -1.25901908e-02 -1.25530747e-02  1.78302297e-02\n",
      "  -5.34722982e-03 -1.52014988e-02  1.86099660e-02  2.27999825e-02\n",
      "  -2.18231468e-03  7.65133545e-03 -8.45277656e-03  1.67587557e-02\n",
      "  -6.45175188e-03 -1.39120363e-02  1.45910233e-02 -2.42020132e-02\n",
      "   1.07701646e-02  1.58246000e-02  5.00505012e-03 -1.82283318e-03\n",
      "   1.46362672e-02  1.67410272e-02 -2.06123654e-02 -1.76806227e-04\n",
      "   1.09113908e-02  6.02975457e-03 -1.48143028e-02  1.14328981e-02\n",
      "   1.12630832e-02 -2.26902436e-02  2.17682668e-02  2.02361783e-02\n",
      "  -1.26340141e-02 -7.80103660e-03  1.13313332e-03 -2.86886599e-02\n",
      "   8.02698126e-03 -2.18338773e-03]]\n",
      "================================================================================\n",
      "[1 1 2 ... 0 0 0]\n",
      "================================================================================\n"
     ]
    }
   ],
   "source": [
    "print(kmeans.predict(tfidf_sent_vectors_train))\n",
    "print('='*80)\n",
    "print(kmeans.cluster_centers_)\n",
    "print('='*80)\n",
    "print(kmeans.labels_)\n",
    "print('='*80)"
   ]
  },
  {
   "cell_type": "markdown",
   "metadata": {},
   "source": [
    "<h2> Applying Elbow-Knee Methon For Best K </h2>"
   ]
  },
  {
   "cell_type": "code",
   "execution_count": 49,
   "metadata": {},
   "outputs": [
    {
     "name": "stdout",
     "output_type": "stream",
     "text": [
      "Fitting 3 folds for each of 9 candidates, totalling 27 fits\n"
     ]
    },
    {
     "name": "stderr",
     "output_type": "stream",
     "text": [
      "[Parallel(n_jobs=1)]: Using backend SequentialBackend with 1 concurrent workers.\n",
      "[Parallel(n_jobs=1)]: Done  27 out of  27 | elapsed:   22.3s finished\n"
     ]
    },
    {
     "name": "stdout",
     "output_type": "stream",
     "text": [
      "Best Cluster:  {'n_clusters': 9}\n"
     ]
    }
   ],
   "source": [
    "from sklearn.model_selection import GridSearchCV\n",
    "for i in range(1,10):\n",
    "    clf = KMeans(n_clusters = i)\n",
    "param_grid = {'n_clusters':[1,2, 3, 4, 5, 6, 7, 8, 9] }\n",
    "gsv = GridSearchCV(clf,param_grid,verbose=1)\n",
    "gsv.fit(tfidf_sent_vectors_train,y_train)\n",
    "print(\"Best Cluster: \",gsv.best_params_)"
   ]
  },
  {
   "cell_type": "code",
   "execution_count": 50,
   "metadata": {},
   "outputs": [
    {
     "data": {
      "image/png": "[encoded data removed]",
      "text/plain": [
       "<Figure size 432x288 with 1 Axes>"
      ]
     },
     "metadata": {},
     "output_type": "display_data"
    }
   ],
   "source": [
    "dic = {}\n",
    "for i in range(1,10):\n",
    "    clus = KMeans(n_clusters = i)\n",
    "    clus.fit(tfidf_sent_vectors_train)\n",
    "    dic[i] = clus.inertia_\n",
    "plt.plot(list(dic.keys()), list(dic.values()))\n",
    "plt.xlabel(\"No. of cluster\")\n",
    "plt.ylabel(\"Inertia\")\n",
    "plt.show()"
   ]
  },
  {
   "cell_type": "markdown",
   "metadata": {},
   "source": [
    "<h2> WoedCloud For KMeans </h2>"
   ]
  },
  {
   "cell_type": "code",
   "execution_count": 51,
   "metadata": {},
   "outputs": [
    {
     "data": {
      "image/png": "[encoded data removed]",
      "text/plain": [
       "<Figure size 432x288 with 1 Axes>"
      ]
     },
     "metadata": {},
     "output_type": "display_data"
    }
   ],
   "source": [
    "clf = KMeans(n_clusters = 8)\n",
    "b = clf.fit_predict(tfidf_sent_vectors_train)\n",
    "\n",
    "index = []\n",
    "for i in range(len(b)):\n",
    "    if b[i] == 1:\n",
    "        index.append(i)\n",
    "        \n",
    "len(index)\n",
    "text = []\n",
    "for i in range(len(index)):\n",
    "    text.append(list_of_sent[index[i]])\n",
    "    \n",
    "from wordcloud import WordCloud\n",
    "from matplotlib.pyplot import figure\n",
    "t_b = ''\n",
    "for j in range(len(text)):\n",
    "    for i in range(len(text[j])):\n",
    "        t_b = t_b + text[j][i] + ' '\n",
    "\n",
    "word_cloud = WordCloud(relative_scaling = 1.0).generate(t_b)\n",
    "plt.imshow(word_cloud,aspect='auto')\n",
    "plt.axis('off')\n",
    "plt.show()    "
   ]
  },
  {
   "cell_type": "markdown",
   "metadata": {},
   "source": [
    "# Conclusion:-"
   ]
  },
  {
   "cell_type": "markdown",
   "metadata": {},
   "source": [
    "1. First loaded an Amzon fine food reviwes dataset and then split in train and test and cross-validation for featurization.\n",
    "2. Then applied KMeans cluster in train dataset only.\n",
    "3. Then find hyper parametrer best N_cluster and how many cluster in kmreans and find best cluster in KMeans.\n",
    "4. Then used ELBOW_KNEE_Method and created a plot between N_Clusters and Inertia .\n",
    "5. Then plot a WordCloud for Kmeans where all words are ploted which is highly repeated in KMeans cluter in highlited way like  in big words"
   ]
  },
  {
   "cell_type": "markdown",
   "metadata": {},
   "source": [
    "<h2> ================================================================= </h2>"
   ]
  }
 ],
 "metadata": {
  "kernelspec": {
   "display_name": "Python 3 (ipykernel)",
   "language": "python",
   "name": "python3"
  },
  "language_info": {
   "codemirror_mode": {
    "name": "ipython",
    "version": 3
   },
   "file_extension": ".py",
   "mimetype": "text/x-python",
   "name": "python",
   "nbconvert_exporter": "python",
   "pygments_lexer": "ipython3",
   "version": "3.6.5"
  }
 },
 "nbformat": 4,
 "nbformat_minor": 2
}
